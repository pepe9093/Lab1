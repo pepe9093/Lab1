{
 "cells": [
  {
   "cell_type": "markdown",
   "id": "46e34d23-65bd-48cf-873f-6070b80a81e3",
   "metadata": {},
   "source": [
    "# Note"
   ]
  },
  {
   "cell_type": "code",
   "execution_count": 1,
   "id": "49f46fb2-edb3-4a58-b8c0-46042d6a8f2f",
   "metadata": {},
   "outputs": [
    {
     "name": "stdout",
     "output_type": "stream",
     "text": [
      "12\n"
     ]
    }
   ],
   "source": [
    "print(3*4)"
   ]
  },
  {
   "cell_type": "code",
   "execution_count": 2,
   "id": "352865b7-1d4a-4048-a89a-d3c9cbb32909",
   "metadata": {},
   "outputs": [
    {
     "name": "stdout",
     "output_type": "stream",
     "text": [
      "5.8\n"
     ]
    }
   ],
   "source": [
    "x = [ 1, 5, 6, 8, 9]\n",
    "print( sum(x) / len(x))"
   ]
  },
  {
   "cell_type": "markdown",
   "id": "edad6bcc-bf9e-43ec-8366-20ab0e2cc7db",
   "metadata": {},
   "source": [
    "|Name| School| Age|\n",
    "|-|-|-|\n",
    "|Mark| USC|12|\n",
    "|JACOB| N/A|13|\n",
    "|Blake| FIU| 23|\n",
    "LUL| USC| 21"
   ]
  },
  {
   "cell_type": "code",
   "execution_count": null,
   "id": "cd9a467f-e42d-44a0-9fe4-f95ab43c46dc",
   "metadata": {},
   "outputs": [],
   "source": []
  }
 ],
 "metadata": {
  "kernelspec": {
   "display_name": "Python 3",
   "language": "python",
   "name": "python3"
  },
  "language_info": {
   "codemirror_mode": {
    "name": "ipython",
    "version": 3
   },
   "file_extension": ".py",
   "mimetype": "text/x-python",
   "name": "python",
   "nbconvert_exporter": "python",
   "pygments_lexer": "ipython3",
   "version": "3.8.8"
  },
  "toc-autonumbering": true,
  "toc-showmarkdowntxt": false
 },
 "nbformat": 4,
 "nbformat_minor": 5
}
